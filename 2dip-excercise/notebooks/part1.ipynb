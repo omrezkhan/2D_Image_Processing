version https://git-lfs.github.com/spec/v1
oid sha256:781b7f77fc490e1a7002063b4be76570728ee17527ca6d7608a6960af69a0fe7
size 3352173
